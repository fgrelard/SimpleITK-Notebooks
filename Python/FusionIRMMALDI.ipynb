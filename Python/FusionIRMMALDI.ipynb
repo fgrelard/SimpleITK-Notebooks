{
 "cells": [
  {
   "cell_type": "markdown",
   "metadata": {
    "ein.tags": "worksheet-0",
    "slideshow": {
     "slide_type": "-"
    }
   },
   "source": [
    "<h1 align=\"center\">Recalage d'images multimodales via SimpleITK</h1>\n",
    "\n",
    "## Contexte\n",
    "\n",
    "**Objectif** : identifier de nouvelles molécules liées au transfert d'eau dans le grain de blé.\n",
    "\n",
    "**IRM** : image de la densité et de la mobilité de l'eau.\n",
    "<img src=\"../Data/mri.png\" width=\"200\" />\n",
    "\n",
    "**MALDI** : images de la répartition d'un grand nombre de molécules\n",
    "<img src=\"../Data/maldi_cube.png\" width=\"200\" />\n",
    "\n",
    "&rarr; Fusion d'images MALDI et IRM.\n",
    "\n",
    "Chaîne de traitement :\n",
    "<img src=\"../Data/workflow4.png\" width=\"400\" />\n",
    "\n",
    "\n",
    "Nous nous intéressons ici uniquement au recalage entre les deux images.\n",
    "\n",
    "## Recalage \n",
    "Estimation de la **transformation géométrique** permettant la superposition d'une image **mobile** sur une image **fixe**.\n",
    "\n",
    "<img src=\"../Data/anim.gif\" />\n",
    "\n",
    "Les méthodes de recalage impliquent trois composantes :\n",
    "  *  La **transformation géométrique** : rigide, affine, déformable\n",
    "  *  La **métrique** : mesure la similarité, en termes de distance, entre l'image fixe et mobile, en termes d'intensité ou de géométrie\n",
    "  *  L'**optimisation** : méthode pour la détermination du minimum de la métrique\n",
    "  \n",
    "Nous allons utiliser la bibliothèque Python [**SimpleITK**](https://simpleitk.readthedocs.io/en/master/Documentation/docs/source/installation.html). SimpleITK fournit une interface simplifiée pour l'accès aux fonctions d'ITK. \n",
    "\n",
    "Voici le diagramme présentant l'organisation des différentes composantes pour le recalage :\n",
    "\n",
    "<img src=\"ITKv4RegistrationComponentsDiagram.svg\" style=\"width:700px\"/><br><br>\n",
    "\n",
    "Voici différents exemples pour le choix des composantes :\n",
    "\n",
    "### Transformations\n",
    "SimpleITK supporte différents types de transformations géométriques pour le recalage :\n",
    "  * <a href=\"http://www.itk.org/Doxygen/html/classitk_1_1TranslationTransform.html\">TranslationTransform</a> : 2D ou 3D, translation\n",
    "  * <a href=\"http://www.itk.org/Doxygen/html/classitk_1_1Euler2DTransform.html\">Euler2DTransform</a> : 2D, transformation rigide avec rotation sous la forme d'angle d'Euler\n",
    "  * <a href=\"http://www.itk.org/Doxygen/html/classitk_1_1Euler3DTransform.html\">Euler3DTransform</a> : 3D, transformation rigide avec rotations sous la forme d'angles d'Euler\n",
    "  * <a href=\"http://www.itk.org/Doxygen/html/classitk_1_1Similarity2DTransform.html\">Similarity2DTransform</a> : 2D, composition d'homothétie et d'une transformation rigide dont la rotation est sous la forme d'un angle d'Euler\n",
    "  * <a href=\"http://www.itk.org/Doxygen/html/classitk_1_1ScaleTransform.html\">ScaleTransform</a> : 2D ou 3D, homothétie\n",
    "  * <a href=\"http://www.itk.org/Doxygen/html/classitk_1_1AffineTransform.html\">AffineTransform</a> : 2D ou 3D, transformation affine\n",
    "  * <a href=\"http://www.itk.org/Doxygen/html/classitk_1_1BSplineTransform.html\">BSplineTransform</a> : 2D ou 3D, transformation non rigide représentée par une grille régulière de points de contrôle \n",
    "  * <a href=\"http://www.itk.org/Doxygen/html/classitk_1_1DisplacementFieldTransform.html\">DisplacementFieldTransform</a> : 2D ou 3D, transformation non rigide représentée par une grille régulière de vecteurs\n",
    "  * <a href=\"http://www.itk.org/SimpleITKDoxygen/html/classitk_1_1simple_1_1Transform.html\">Transform</a> : transformation générique\n",
    "\n",
    "\n",
    "### Métriques\n",
    "\n",
    "SimpleITK supporte différentes métriques via les fonctions SetMetricAsX() :\n",
    "\n",
    "<ul>\n",
    "  <li>\n",
    "  <a href=\"http://www.itk.org/Doxygen/html/classitk_1_1MeanSquaresImageToImageMetricv4.html\">MeanSquares</a>\n",
    "  </li>\n",
    "  <li>\n",
    "  <a href=\"http://www.itk.org/Doxygen/html/classitk_1_1DemonsImageToImageMetricv4.html\">Demons</a>\n",
    "  </li>\n",
    "  <li>\n",
    "  <a href=\"http://www.itk.org/Doxygen/html/classitk_1_1CorrelationImageToImageMetricv4.html\">Correlation</a>\n",
    "  </li>\n",
    "  <li>\n",
    "  <a href=\"http://www.itk.org/Doxygen/html/classitk_1_1ANTSNeighborhoodCorrelationImageToImageMetricv4.html\">ANTSNeighborhoodCorrelation</a>\n",
    "  </li>\n",
    "  <li>\n",
    "  <a href=\"http://www.itk.org/Doxygen/html/classitk_1_1JointHistogramMutualInformationImageToImageMetricv4.html\">JointHistogramMutualInformation</a>\n",
    "  </li>\n",
    "  <li>\n",
    "  <a href=\"http://www.itk.org/Doxygen/html/classitk_1_1MattesMutualInformationImageToImageMetricv4.html\">MattesMutualInformation</a>\n",
    "  </li>\n",
    "</ul>\n",
    "\n",
    "### Méthodes d'optimisation\n",
    "\n",
    "Différents types d'optimisation sont supportés, et spécifiés par les fonctions SetOptimizerAsX() :\n",
    "\n",
    "<ul>\n",
    "  <li>\n",
    "  <a href=\"http://www.itk.org/Doxygen/html/classitk_1_1ExhaustiveOptimizerv4.html\">Exhaustive</a>\n",
    "  </li>\n",
    "  <li>\n",
    "  <a href=\"http://www.itk.org/Doxygen/html/classitk_1_1AmoebaOptimizerv4.html\">Nelder-Mead downhill simplex</a>, a.k.a. Amoeba.\n",
    "  </li>\n",
    "  <li>\n",
    "   <a href=\"https://itk.org/Doxygen/html/classitk_1_1PowellOptimizerv4.html\">Powell optimizer</a>.\n",
    "  </li>\n",
    "  <li>\n",
    "   <a href=\"https://itk.org/Doxygen/html/classitk_1_1OnePlusOneEvolutionaryOptimizerv4.html\">1+1 evolutionary optimizer</a>.\n",
    "  </li>\n",
    "  <li>\n",
    "  Descente de gradient:\n",
    "  <ul>\n",
    "    <li>\n",
    "    <a href=\"http://www.itk.org/Doxygen/html/classitk_1_1GradientDescentOptimizerv4Template.html\">GradientDescent</a>\n",
    "    </li>\n",
    "    <li>\n",
    "    <a href=\"http://www.itk.org/Doxygen/html/classitk_1_1GradientDescentLineSearchOptimizerv4Template.html\">GradientDescentLineSearch</a>\n",
    "    </li>\n",
    "    <li>\n",
    "    <a href=\"http://www.itk.org/Doxygen/html/classitk_1_1RegularStepGradientDescentOptimizerv4.html\">RegularStepGradientDescent</a>\n",
    "    </li>\n",
    "  </ul>\n",
    "  </li>\n",
    "  <li>\n",
    "    <a href=\"http://www.itk.org/Doxygen/html/classitk_1_1ConjugateGradientLineSearchOptimizerv4Template.html\">ConjugateGradientLineSearch</a> \n",
    "  </li>\n",
    "  <li>\n",
    "  <a href=\"http://www.itk.org/Doxygen/html/classitk_1_1LBFGSBOptimizerv4.html\">L-BFGS-B</a> (Limited memory Broyden, Fletcher, Goldfarb, Shannon-Bound Constrained) - supporte l'utilisation de contraintes simples ($l\\leq x \\leq u$)\n",
    "  </li>\n",
    "  <li>\n",
    "  <a href=\"https://itk.org/Insight/Doxygen/html/classitk_1_1LBFGS2Optimizerv4.html\">L-BFGS2</a> (Limited memory Broyden, Fletcher, Goldfarb, Shannon) \n",
    "  </li>\n",
    "</ul>\n",
    "\n",
    "## Fonctions utiles\n",
    "Diverses fonctions utiles pour le chargement et la visualisation des images :"
   ]
  },
  {
   "cell_type": "code",
   "execution_count": null,
   "metadata": {
    "autoscroll": false,
    "ein.hycell": false,
    "ein.tags": "worksheet-0",
    "slideshow": {
     "slide_type": "-"
    }
   },
   "outputs": [],
   "source": [
    "%matplotlib inline\n",
    "import matplotlib.pyplot as plt\n",
    "\n",
    "import SimpleITK as sitk\n",
    "\n",
    "from ipywidgets import interact, fixed\n",
    "from IPython.display import clear_output\n",
    "\n",
    "i = 0\n",
    "# Callback invoked by the interact IPython method for scrolling through the image stacks of\n",
    "# the two images (moving and fixed).\n",
    "def display_images(fixed_npa, moving_npa):\n",
    "    # Create a figure with two subplots and the specified size.\n",
    "    plt.subplots(1,2,figsize=(10,8))\n",
    "\n",
    "    # Draw the fixed image in the first subplot.\n",
    "    plt.subplot(1,2,1)\n",
    "    plt.imshow(fixed_npa[:,:],cmap=plt.cm.Greys_r);\n",
    "    plt.title('Image fixe')\n",
    "    plt.axis('off')\n",
    "\n",
    "    # Draw the moving image in the second subplot.\n",
    "    plt.subplot(1,2,2)\n",
    "    plt.imshow(moving_npa[:,:],cmap=plt.cm.Greys_r);\n",
    "    plt.title('Image mobile')\n",
    "    plt.axis('off')\n",
    "\n",
    "    plt.show()\n",
    "\n",
    "# Callback invoked by the IPython interact method for scrolling and modifying the alpha blending\n",
    "# of an image stack of two images that occupy the same physical space.\n",
    "def display_images_with_alpha(image_z, alpha, fixed, moving):\n",
    "    fixed_u8 = sitk.Cast(sitk.RescaleIntensity(fixed), sitk.sitkUInt8)\n",
    "    moving_u8 = sitk.Cast(sitk.RescaleIntensity(moving), sitk.sitkUInt8)\n",
    "    img = sitk.Compose(fixed_u8, moving_u8, fixed_u8//3.+moving_u8//1.5)\n",
    "    plt.imshow(sitk.GetArrayFromImage(img));\n",
    "    plt.axis('off')\n",
    "    plt.show()\n",
    "\n",
    "def display_current_image(registration_method, transform, fixed_image, moving_image):\n",
    "    global metric_values, multires_iterations\n",
    "\n",
    "    clear_output(wait=True)\n",
    "    \n",
    "    im = sitk.Resample(moving_image, fixed_image, transform, sitk.sitkLinear, 0.0, moving_image.GetPixelID())\n",
    "    im_npa = sitk.GetArrayFromImage(im)\n",
    "    fixed_npa = sitk.GetArrayFromImage(fixed_image)\n",
    "    \n",
    "    #Create a figure with two subplots and the specified size.\n",
    "    plt.subplots(1,3,figsize=(15,5))\n",
    "\n",
    "    # Draw the fixed image in the first subplot.\n",
    "    plt.subplot(1,3,1)\n",
    "    plt.imshow(fixed_npa[:,:],cmap=plt.cm.Greys_r);\n",
    "    plt.title('Image fixe')\n",
    "    plt.axis('off')\n",
    "\n",
    "    # Draw the moving image in the second subplot.\n",
    "    plt.subplot(1,3,2)\n",
    "    plt.imshow(im_npa[:,:],cmap=plt.cm.Greys_r);\n",
    "    plt.title('Image mobile')\n",
    "    plt.savefig('moving_'+str(i)+\".png\", bbox_inches='tight')\n",
    "    plt.axis('off')\n",
    "    \n",
    "    plt.subplot(1,3,3)\n",
    "    metric_values.append(registration_method.GetMetricValue())\n",
    "    # Clear the output area (wait=True, to reduce flickering), and plot current data\n",
    "    # Plot the similarity metric values\n",
    "    plt.plot(metric_values, 'r')\n",
    "    plt.plot(multires_iterations, [metric_values[index] for index in multires_iterations], 'b*')\n",
    "    plt.xlabel('Iteration',fontsize=12)\n",
    "    plt.ylabel('Valeur de la metrique',fontsize=12)\n",
    "    plt.tight_layout()\n",
    "#    plt.savefig('metric_'+str(i)+\".png\", bbox_inches='tight')\n",
    "    plt.show()\n",
    "    #i+=1\n",
    "       \n",
    "#    display_images(0, 0, sitk.GetArrayFromImage(fixed_image), sitk.GetArrayFromImage(im))\n",
    "#    plot_values(registration_method)\n",
    "    \n",
    "# Callback invoked when the StartEvent happens, sets up our new data.\n",
    "def start_plot():\n",
    "    global metric_values, multires_iterations\n",
    "\n",
    "    metric_values = []\n",
    "    multires_iterations = []\n",
    "\n",
    "# Callback invoked when the EndEvent happens, do cleanup of data and figure.\n",
    "def end_plot():\n",
    "    global metric_values, multires_iterations\n",
    "\n",
    "    del metric_values\n",
    "    del multires_iterations\n",
    "    # Close figure, we don't want to get a duplicate of the plot latter on.\n",
    "    plt.close()\n",
    "\n",
    "# Callback invoked when the IterationEvent happens, update our data and display new figure.\n",
    "def plot_values(registration_method):\n",
    "    global metric_values, multires_iterations\n",
    "\n",
    "    metric_values.append(registration_method.GetMetricValue())\n",
    "    # Clear the output area (wait=True, to reduce flickering), and plot current data\n",
    "    # Plot the similarity metric values\n",
    "    plt.plot(metric_values, 'r')\n",
    "    plt.plot(multires_iterations, [metric_values[index] for index in multires_iterations], 'b*')\n",
    "    plt.xlabel('Iteration',fontsize=12)\n",
    "    plt.ylabel('Valeur de la metrique',fontsize=12)\n",
    "    plt.show()\n",
    "\n",
    "# Callback invoked when the sitkMultiResolutionIterationEvent happens, update the index into the\n",
    "# metric_values list.\n",
    "def update_multires_iterations():\n",
    "    global metric_values, multires_iterations\n",
    "    multires_iterations.append(len(metric_values))"
   ]
  },
  {
   "cell_type": "markdown",
   "metadata": {
    "ein.tags": "worksheet-0",
    "slideshow": {
     "slide_type": "-"
    }
   },
   "source": [
    "## Chargement des données\n",
    "Chargement des images fixe (IRM) et mobile (MALDI):"
   ]
  },
  {
   "cell_type": "code",
   "execution_count": null,
   "metadata": {
    "autoscroll": false,
    "ein.hycell": false,
    "ein.tags": "worksheet-0",
    "slideshow": {
     "slide_type": "-"
    }
   },
   "outputs": [],
   "source": [
    "fixed_image =  sitk.ReadImage(\"../Data/mri.png\",sitk.sitkFloat32)\n",
    "\n",
    "moving_image = sitk.ReadImage(\"../Data/maldi.jpg\", sitk.sitkFloat32)\n",
    "\n",
    "display_images(fixed_npa = sitk.GetArrayViewFromImage(fixed_image), moving_npa=sitk.GetArrayViewFromImage(moving_image))"
   ]
  },
  {
   "cell_type": "markdown",
   "metadata": {
    "ein.tags": "worksheet-0",
    "slideshow": {
     "slide_type": "-"
    }
   },
   "source": [
    "## Recalage rigide\n",
    "\n",
    "Pour ce recalage, nous utilisons :\n",
    "- métrique : information mutuelle de Mattes, basée sur l'histogramme conjoint des intensités entre deux images\n",
    "- transformation : transformation rigide => homothétie + translation + rotation\n",
    "- optimisation : descente de gradient\n",
    "\n",
    "La transformation est initialisée en alignant les centres des deux objets (cf. CenteredTransformInitializer)"
   ]
  },
  {
   "cell_type": "code",
   "execution_count": null,
   "metadata": {
    "autoscroll": false,
    "ein.hycell": false,
    "ein.tags": "worksheet-0",
    "slideshow": {
     "slide_type": "-"
    }
   },
   "outputs": [],
   "source": [
    "numberOfBins = 15\n",
    "registration_method = sitk.ImageRegistrationMethod()\n",
    "\n",
    "# Métrique\n",
    "registration_method.SetMetricAsMattesMutualInformation(numberOfBins)\n",
    "\n",
    "# Algorithme d'optimisation\n",
    "registration_method.SetOptimizerAsRegularStepGradientDescent(learningRate=1.6,\n",
    "                                                             minStep=0.001,\n",
    "                                                             numberOfIterations=100,\n",
    "                                                             relaxationFactor=0.15, \n",
    "                                                             gradientMagnitudeTolerance = 1e-5,\n",
    "                                                             maximumStepSizeInPhysicalUnits = 0.0) \n",
    "\n",
    "#registration_method.SetOptimizerAsOnePlusOneEvolutionary(numberOfIterations=100, \n",
    "#                                                         epsilon=1.5e-1,\n",
    "#                                                         initialRadius=1.01,\n",
    "#                                                         growthFactor=-0.15,\n",
    "#                                                         shrinkFactor=-0.85, \n",
    "#                                                         seed=12350)\n",
    "\n",
    "# Transformation\n",
    "transform = sitk.CenteredTransformInitializer(fixed_image,\n",
    "                                              moving_image,\n",
    "                                              sitk.Similarity2DTransform(),\n",
    "                                              sitk.CenteredTransformInitializerFilter.MOMENTS)\n",
    "\n",
    "registration_method.SetInitialTransform(transform)\n",
    "\n",
    "registration_method.AddCommand(sitk.sitkStartEvent, start_plot)\n",
    "registration_method.AddCommand(sitk.sitkEndEvent, end_plot)\n",
    "registration_method.AddCommand(sitk.sitkIterationEvent, lambda: display_current_image(registration_method, transform, fixed_image, moving_image))\n",
    "\n",
    "\n",
    "outTx = registration_method.Execute(fixed_image, moving_image)\n",
    "\n",
    "moving_resampled = sitk.Resample(moving_image, fixed_image, outTx, sitk.sitkLinear, 0.0, moving_image.GetPixelID())"
   ]
  },
  {
   "cell_type": "markdown",
   "metadata": {
    "ein.tags": "worksheet-0",
    "slideshow": {
     "slide_type": "-"
    }
   },
   "source": [
    "## Analyse du recalage\n",
    "\n",
    "### Choix des paramètres\n",
    "La valeur finale de la métrique ainsi que la raison de la terminaison de l'algorithme d'optimisation permettent d'ajuster les paramètres du recalage. Cela aide à identifier lorsque la terminaison de l'algorithme est trop rapide, à cause de :\n",
    "* un trop faible nombre d'itérations (numberOfIterations)\n",
    "* un changement trop faible dans la mesure de similarité (minStep)"
   ]
  },
  {
   "cell_type": "code",
   "execution_count": null,
   "metadata": {
    "autoscroll": false,
    "ein.hycell": false,
    "ein.tags": "worksheet-0",
    "slideshow": {
     "slide_type": "-"
    }
   },
   "outputs": [],
   "source": [
    "print('Valeur finale de la métrique: {0}'.format(registration_method.GetMetricValue()))\n",
    "print('Condition de terminaison de l\\'algorithme d\\'optimisation , {0}'.format(registration_method.GetOptimizerStopConditionDescription()))"
   ]
  },
  {
   "cell_type": "markdown",
   "metadata": {
    "ein.tags": "worksheet-0",
    "slideshow": {
     "slide_type": "-"
    }
   },
   "source": [
    "### Analyse quantitative\n",
    "On peut tout d'abord afficher la superposition des deux images :"
   ]
  },
  {
   "cell_type": "code",
   "execution_count": null,
   "metadata": {
    "autoscroll": false,
    "ein.hycell": false,
    "ein.tags": "worksheet-0",
    "scrolled": true,
    "slideshow": {
     "slide_type": "-"
    }
   },
   "outputs": [],
   "source": [
    "display_images_with_alpha(image_z=(0,1), alpha=(0.0,1.0,0.05), fixed = fixed_image, moving=moving_resampled)"
   ]
  },
  {
   "cell_type": "markdown",
   "metadata": {
    "ein.tags": "worksheet-0",
    "slideshow": {
     "slide_type": "-"
    }
   },
   "source": [
    "La qualité du recalage peut être évaluée par la précision et le rappel entre l'image fixe et l'image recalée binarisées :"
   ]
  },
  {
   "cell_type": "code",
   "execution_count": null,
   "metadata": {
    "autoscroll": false,
    "ein.hycell": false,
    "ein.tags": "worksheet-0",
    "slideshow": {
     "slide_type": "-"
    }
   },
   "outputs": [],
   "source": [
    "import numpy as np\n",
    "\n",
    "def precision(im1, im2):\n",
    "    tp = np.count_nonzero((im2 + im1) == 2)\n",
    "    allp = np.count_nonzero(im2 == 1)\n",
    "    return tp * 1.0 / allp\n",
    "\n",
    "def recall(im1, im2):\n",
    "    tp = np.count_nonzero((im2 + im1) == 2)\n",
    "    allr = np.count_nonzero(im1 == 1)\n",
    "    return tp * 1.0 / allr\n",
    "\n",
    "def quality_registration(imRef, imRegistered):\n",
    "    otsu_filter = sitk.OtsuThresholdImageFilter()\n",
    "    otsu_filter.SetInsideValue(0)\n",
    "    otsu_filter.SetOutsideValue(1)\n",
    "    imRef_bin = otsu_filter.Execute(imRef)\n",
    "    imRegistered_bin = otsu_filter.Execute(imRegistered)\n",
    "    p = precision(imRef_bin, imRegistered_bin)\n",
    "    r = recall(imRef_bin, imRegistered_bin)\n",
    "    return p, r"
   ]
  },
  {
   "cell_type": "markdown",
   "metadata": {
    "ein.tags": "worksheet-0",
    "slideshow": {
     "slide_type": "-"
    }
   },
   "source": [
    "Puis de les calculer :"
   ]
  },
  {
   "cell_type": "code",
   "execution_count": null,
   "metadata": {
    "autoscroll": false,
    "ein.hycell": false,
    "ein.tags": "worksheet-0",
    "slideshow": {
     "slide_type": "-"
    }
   },
   "outputs": [],
   "source": [
    "precision, rappel = quality_registration(fixed_image, moving_resampled)\n",
    "print(\"Precision =\", precision, \"\\nRappel=\", rappel)"
   ]
  }
 ],
 "metadata": {
  "kernelspec": {
   "display_name": "Python 3",
   "language": "python",
   "name": "python3"
  },
  "language_info": {
   "codemirror_mode": {
    "name": "ipython",
    "version": 3
   },
   "file_extension": ".py",
   "mimetype": "text/x-python",
   "name": "python",
   "nbconvert_exporter": "python",
   "pygments_lexer": "ipython3",
   "version": "3.6.8"
  },
  "name": "FusionIRMMALDI.ipynb"
 },
 "nbformat": 4,
 "nbformat_minor": 1
}
